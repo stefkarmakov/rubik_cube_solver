{
  "nbformat": 4,
  "nbformat_minor": 0,
  "metadata": {
    "colab": {
      "name": "rubik_cube_solver.ipynb",
      "provenance": []
    },
    "kernelspec": {
      "name": "python3",
      "display_name": "Python 3"
    },
    "language_info": {
      "name": "python"
    }
  },
  "cells": [
    {
      "cell_type": "markdown",
      "source": [
        "The idea of this project is to walk you through the way I tackled a problem that I found interesting and worth exploring: can you solve a Rubik's cube using Simulated Annealing. The most popular ways of solving the cube are either by applying a set of rules, depending on the configuration of the cube at each stage of the solving process, or using graph search algorithms, like A*, or Kociemba’s algorithm. But I wanted to know if you can use a Genetic Algorithm, like Simulated Annealing, to solve the problem, not by simply brute-forcing all combinations and finding the fastest way to the solution. So here I'm attempting exactly this.\n",
        "\n",
        "\n",
        "---------\n",
        "\n",
        "Before we start, it's good to first define the notations that we'll be sticking to. In order to represent the 3D cube, we'll use a 2D folded representation, with each side being numerated 1-6:\n",
        "\n",
        "white = 1 | blue = 2 | red = 3 | green = 4 | orange = 5 | yellow = 6\n",
        "\n",
        "![rubik_pic_2D.png](data:image/png;base64,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)\n",
        "\n",
        "The numerical color representations are used only for the presentation of the cube state. For the cube manipulations, the colors follow the same order, but start from 0 (white=0, blue=1, red=2, etc.) in order to comply with matrix indexing, which starts from 0. This makes coding the logic simpler.\n",
        "\n",
        "---------\n",
        "\n",
        "Each side is being distinguished by its middle piece/tile, which does not move. All other tiles on the face can change color based on the rotations, but not the middle ones. This is done for simplicity of following the cube rearrangements. This means that for the possible cube movements we ignore whole cube rotations, and focus on the rotations of faces alone. Rotations of middle rows are ignored as well because 1. they would result in the middle tiles moving, and 2. the same movement can be ahieved with two rotations of the neighbouring rows, so it's better to keep it simple. "
      ],
      "metadata": {
        "id": "Lh5Q1s7o0Bpp"
      }
    },
    {
      "cell_type": "markdown",
      "source": [
        ""
      ],
      "metadata": {
        "id": "Ark15t_iORfh"
      }
    },
    {
      "cell_type": "code",
      "execution_count": null,
      "metadata": {
        "id": "nwScZZ2riSfF"
      },
      "outputs": [],
      "source": [
        "import numpy as np\n",
        "import random\n",
        "import matplotlib.pyplot as plt"
      ]
    },
    {
      "cell_type": "markdown",
      "source": [
        "GROUND_TRUTH is a 6x3x3 matrix representing the solved cube, where each color is encoded with a number 1-6.\n"
      ],
      "metadata": {
        "id": "d6uaKZt5nBNT"
      }
    },
    {
      "cell_type": "code",
      "source": [
        "GROUND_TRUTH = np.array([mat*(idx+1) for idx,mat in enumerate(np.ones((6,3,3)))])"
      ],
      "metadata": {
        "id": "lC2ISR1dm8_X"
      },
      "execution_count": null,
      "outputs": []
    },
    {
      "cell_type": "markdown",
      "source": [
        "The first thing is to make sure that we create a working representation of the cube, so that the rotations/moves that we apply will properly adjust the tiles on the cube. To do so, one can go about different ways, such as hard-coding each move, but here a look-up table (`ROTATION_LOOKUP_TABLE`) is used to succinctly encompass all the necessary movements that we want to do. Because we've already decided that only the outer rows on each side can move, then the possible moves are only 12, which are the rotations of each side (including the clockwise (CW) and counter-clockwise (CCW) rotations). In Rubik terms: *U, U', D, D', R, R', L, L', F, F', B, B'* are the moves we'll be using. \n",
        "\n",
        "Explaining the look-up table further: Each row corresponds to how different rows/cols from different faces get\n",
        "mapped when a particular face is rotated. The three numbers in each subarray\n",
        "encode which row/col on which face will go where. The first number shows the\n",
        "number of the row/col, starting from 0. The second number shows if it's row\n",
        "or col, with row = 0, col = 1. The third number is the face/color. The order of the subarrays on the particular row maps where the particular row/col will go after the rotation, ei if we look at row 3 (rotation of face 4): \n",
        "[0,0,2] -> [0,0,3] -> [0,0,4] -> [0,0,1] -> [0,0,2]\n",
        "\n",
        "**Example**: \n",
        "For row 1 of the `ROTATION_LOOKUP_TABLE`, for the first transformation we have that `[0,0,2]` goes to `[0,0,3]`, which means that the first row (`[0,0,..]`) of the red face (`[..,..,2]`) will go in the place of the first row (`[0,0,..]`) of the green face (`[..,..,3]`).\n",
        "And after `[0,0,3]` will go to `[0,0,4]`, which will go to `[0,0,1]`, etc.\n",
        "```\n",
        "[0,0,..] == first row \n",
        "[0,1,..] == first col\n",
        "[1,0,..] == second row\n",
        "[1,1,..] == second col\n",
        "...\n",
        "```\n",
        "That way the table encodes all the information we need to make\n",
        "the particular move. With a total of 12 moves (including the CCW, where the\n",
        "order of the subarrays on the rows is just reversed), we have all needed\n",
        "moves to place a tile anywere on the cube. "
      ],
      "metadata": {
        "id": "vJMJUrx3nscr"
      }
    },
    {
      "cell_type": "code",
      "source": [
        "ROTATION_LOOKUP_TABLE = np.array([\n",
        "    [[0,0,2], [0,0,3], [0,0,4], [0,0,1], [0,0,2]],      # rotate face 1\n",
        "    [[0,1,0], [0,1,4], [0,1,5], [2,1,2], [0,1,0]],      # rotate face 2\n",
        "    [[0,0,0], [0,1,1], [2,0,5], [2,1,3], [0,0,0]],      # rotate face 3              \n",
        "    [[2,1,0], [0,1,2], [2,1,5], [2,1,4], [2,1,0]],      # rotate face 4\n",
        "    [[2,0,0], [0,1,3], [0,0,5], [2,1,1], [2,0,0]],      # rotate face 5              \n",
        "    [[2,0,4], [2,0,3], [2,0,2], [2,0,1], [2,0,4]] ])    # rotate face 6"
      ],
      "metadata": {
        "id": "lV-mZZR0ns4M"
      },
      "execution_count": null,
      "outputs": []
    },
    {
      "cell_type": "markdown",
      "source": [
        "A simple function is also used, which translates the face matrix either CW, or CCW. "
      ],
      "metadata": {
        "id": "ixZv-RisRAen"
      }
    },
    {
      "cell_type": "code",
      "source": [
        "def rotate_face(face_matrix, direction):\n",
        "    \"\"\"Looking at the cube face, rotate/flip the face matrix representation\n",
        "    either CW(direction = 1) or CCW(direction = -1)\n",
        "    \"\"\"\n",
        "    reflection_matrix = np.array([[0, 0, 1], [0, 1, 0], [1, 0, 0]])\n",
        "    if direction == 1:\n",
        "        return np.matmul(face_matrix.transpose(), reflection_matrix)\n",
        "    elif direction == -1:\n",
        "        return np.matmul(face_matrix, reflection_matrix).transpose()"
      ],
      "metadata": {
        "id": "AGbVHepPopsZ"
      },
      "execution_count": null,
      "outputs": []
    },
    {
      "cell_type": "markdown",
      "source": [
        "We also need a function that flips the order of the tiles in a row/col. Because we're using a flattened 2D representation of the 3D cube, some rotations will result in, say a row from one face being mapped into a col on another, but in reverse. You can take the CW rotation of the blue face(face 2) and see that the left col from the yellow face(face 6) will replace the right col of the red face(face 3). But because of the nature of the rotation, the tiles will be upside-down after the rotation (sitting on the red face) from how they were before the rotation (when they were on the yellow face). So we need the `flip_XOR` function to account for that. \n",
        "\n",
        "The way I've encoded the rotations in the `ROTATION_LOOKUP_TABLE` means that we can figure out if a flip is needed by comparing the first two parameters of the row/col before and after the transformation. The color of the tiles doesn't play a role. If either of the two parameters is the same before and after the transformation, then a flip is needed. So a transformation from [0,1,..] -> [0,0,..] needs a flip because the first coordinate is 0 for both, but the second is different. If both, or neither of the two parameters are the same, then no flip is needed, say for [0,1,..] -> [2,0,..]. Overall this acts as a XOR gate, if we raise -1 to the power of the number of differing parameter. The output of -1 means flip, and 1 means keep the same. "
      ],
      "metadata": {
        "id": "2OlGWRfEvcaP"
      }
    },
    {
      "cell_type": "code",
      "source": [
        "def flip_XOR(i_0, j_0, i_1, j_1):\n",
        "    diffs = [i_0 - i_1, j_0 - j_1] \n",
        "    # flip only if one of the row/col params differs => XOR gate =>\n",
        "    # (-1)^1=-1 otherwise (-1)^2=1 or (-1)^0=1\n",
        "    return (-1)**np.count_nonzero(diffs)"
      ],
      "metadata": {
        "id": "99h1QKyevZqr"
      },
      "execution_count": null,
      "outputs": []
    },
    {
      "cell_type": "markdown",
      "source": [
        "As the `ROTATION_LOOKUP_TABLE` shows the row/col mapping/replacement for a CW \n",
        "rotation, the `[::direction]`, present for the `transfomations_table` definition, would be `[::1]` when the rotation direction is CW, so nothing will change. But when the rotation is CCW, the rows/cols need to be mapped in the reverse order. So `[::direction]` will be `[::-1]`, which flips the order of the subarrays.\n",
        "\n",
        "Example: if we again look at the rotation of face 1 (row 1 of the `ROTATION_LOOKUP_TABLE`), if the rotation is CCW, the `transfomations_table` will look like:\n",
        "\n",
        "`[[0,0,2], [0,0,1], [0,0,4], [0,0,3], [0,0,2]]`\n",
        "\n",
        "instead of \n",
        "\n",
        "`[[0,0,2], [0,0,3], [0,0,4], [0,0,1], [0,0,2]]`"
      ],
      "metadata": {
        "id": "nKbKk5Ukov5h"
      }
    },
    {
      "cell_type": "code",
      "source": [
        "def move(face_matrix_num, direction, current_cube_state):  \n",
        "    \"\"\"Transform the cube under a signle face rotation\"\"\"\n",
        "    new_cube_state = current_cube_state.copy()\n",
        "    face_matrix = current_cube_state[face_matrix_num]\n",
        "    # update just the rotated face\n",
        "    new_cube_state[face_matrix_num] = rotate_face(face_matrix, direction)\n",
        "    \n",
        "    # get the rotation row for the particular face    \n",
        "    transfomations_table = ROTATION_LOOKUP_TABLE[face_matrix_num,:,:][::direction]\n",
        "    # update the affected sides around the rotated face, based on the transfomations_table\n",
        "    for t in range(len(transfomations_table)-1):\n",
        "        i_0 = transfomations_table[t][0]\n",
        "        j_0 = transfomations_table[t][1]\n",
        "        k_0 = transfomations_table[t][2]\n",
        "        \n",
        "        i_1 = transfomations_table[t+1][0]\n",
        "        j_1 = transfomations_table[t+1][1]\n",
        "        k_1 = transfomations_table[t+1][2]\n",
        "        \n",
        "        flip_sign = flip_XOR(i_0, j_0, i_1, j_1) # -1 or 1\n",
        "        # make sure that row/col is in an array form (flatten part)\n",
        "        new_cubelets = (current_cube_state[k_0].take((i_0,), axis=j_0)).flatten()\n",
        "        # check if new tile position is row or col, and flip the row/col accordingly\n",
        "        if j_1 == 0:\n",
        "            new_cube_state[k_1][i_1,:] = new_cubelets[::flip_sign]\n",
        "        elif j_1 == 1:\n",
        "            new_cube_state[k_1][:,i_1] = new_cubelets[::flip_sign]\n",
        "       \n",
        "    return new_cube_state"
      ],
      "metadata": {
        "id": "uCkcQzq7orZx"
      },
      "execution_count": null,
      "outputs": []
    },
    {
      "cell_type": "markdown",
      "source": [
        "In order to choose the moves that the Simulated Annealing algorithm will take, we need to have a way of deciding which moves are good and which are not. So we need to measure the \"fitness\" of the cube at each state. So we can do it by calculating the difference between the current cube state and the solved cube (`GROUND_TRUTH`) => how many tiles are not in position = fitness of cube. In the worst case scenario, 48 tiles will not be in position (because the 6 center tiles will always be in position, and a cube has a total of 54 tiles). "
      ],
      "metadata": {
        "id": "-MWK5KO4Oocq"
      }
    },
    {
      "cell_type": "code",
      "source": [
        "def calculate_fitness(cube_state):\n",
        "    return np.count_nonzero(GROUND_TRUTH - cube_state)"
      ],
      "metadata": {
        "id": "loyKb1k0Ooo0"
      },
      "execution_count": null,
      "outputs": []
    },
    {
      "cell_type": "markdown",
      "source": [
        "Now that we have all the functions that we need in order to simulate a move and also caclulate its fitness, we can actually get to the actual coding of how we choose the next step, where the Simulated Annealing algorithm finally comes into play. \n",
        "\n",
        "The `choose_move` function is nothing more than a while loop that exits when an acceptable move is found. The way you find an acceptable move is as follows:\n",
        "\n",
        "\n",
        "1. Generate a random move by randomly choosing a face to rotate (between 0-5) and a direction to rotate this face to (CW or CCW)\n",
        "2. Calculate the fitness of the cube before and after the move\n",
        "3. Find the \"delta\"/difference in the cube fitness\n",
        "4. If the Δ is negative -> go with this move because the move increases the orderness of the cube. \n",
        "5. If the Δ is positive -> choose the move with probability $P = \\mathrm{e}^{-Δ/T}$, where T is the temperature of the current run of the algorithm (explained more later). As Δ is positive (because for negative Δ, we enter point 4.), P is limited between (0,1).  So this gives us the opportunity to take a \"wrong move\", or one which increases the disorderness of the cube, with a particular probability. The bigger the P, the larger the chance we have of choosing that move.\n",
        "\n",
        "The functions runs until it randomly finds a move, which decreases the Δ, or it probabilistically chooses a move that increases the Δ. There also an `if statement`, which checks if the loop has ran more than 100 times without choosing a move, and if so, reverts to the previous move. This is included because it sometimes happens that all the moves that can be taken result in positive Δ and P is very small (ex: 5x10^(-4)), so practically no move can be chosen in a reasonable number of tries. The algorithm has fallen into a local minima and cannot escape. This usually happens with small values of T, after the algorithm has gone through many iterations. A way to deal with this is to revert the move, and the parameters, to a previous move with the hope it will choose an escape move this time. \n",
        "\n"
      ],
      "metadata": {
        "id": "HXFRrMH5Ne8A"
      }
    },
    {
      "cell_type": "code",
      "source": [
        "def choose_move(current_cube_state, current_cube_fitness, T, previous_move):\n",
        "    no_move = True\n",
        "    count_iters = 0\n",
        "    while no_move:\n",
        "        # add counter if while loop gets stuck at local minima\n",
        "        if count_iters == 100:\n",
        "            prev_cube_state = move(previous_move[0], -previous_move[1], current_cube_state)\n",
        "            prev_move_reversed = [previous_move[0], -previous_move[1]]\n",
        "            return prev_move_reversed, -100, prev_cube_state\n",
        "        count_iters += 1 \n",
        "        \n",
        "        # randomly choose new move and assess it's fitness\n",
        "        new_move = random.randint(0,5)\n",
        "        new_move_direction = random.choice([-1, 1])   \n",
        "        new_cube_state = move(new_move, new_move_direction, current_cube_state)\n",
        "        delta = calculate_fitness(new_cube_state) - current_cube_fitness\n",
        "        \n",
        "        if delta <= 0:\n",
        "            break\n",
        "        P = np.exp(-delta/T) # returns probabilty for a move between (0,1)\n",
        "        random_prob = np.random.uniform(0,1) # generate random (0,1) probability\n",
        "        # if random probability is smaller -> take move\n",
        "        if P > random_prob:\n",
        "            break\n",
        "            \n",
        "    chosen_move = [new_move, new_move_direction] \n",
        "    return chosen_move, delta, new_cube_state"
      ],
      "metadata": {
        "id": "q5iJ5ZdiNfjh"
      },
      "execution_count": null,
      "outputs": []
    },
    {
      "cell_type": "markdown",
      "source": [
        "Now that we can choose a move, the next step is to actually make the algorithm choose the set of moves that will end up with a solved cube. This is called the \"cooling process\" in the Simulated Annealing algorithm. The algorithm starts with a temperature T, and after each move, this temperature decreases by a fixed cooling rate, analogous to annealing in metallurgy (but in metallurgy the cooling rate is usually not fixed). \n",
        "\n",
        "The temperature T affects the probability of choosing a move, as we saw earlier. But if we dissect the equation $P = \\mathrm{e}^{-Δ/T}$ a bit further, we can see that for very large T (T>>Δ) the probability P approahes 1, so the probability of choosing any move, even if it's the worst move, is almost 100%. So then the Simulated Annealing algorithm is more like a Random Walk algorithm. If T<<Δ (here << and >> can be as little as x10 difference), then P will approach 0, making the algorithm closer to a Gradient Descent algorithm, where only the best move, or in our case one which decreases Δ, will be chosen. \n",
        "\n",
        "So for the cooling process, it's common to start with a high T, when the algorithm can make \"wrong\" moves at the beginning, and thus jump over local minima, and as the temperature decreases with each move, the algorithm will make more calculated moves to reach the global minima. Of course, there is a real chance of the algorithm getting stuck at a local minima still, so I have implemented the move counter, which I talked about before. \n",
        "\n",
        "So the `cooling_process` function takes in the mixed cube, which needs to be solved, the initial temperature, the cooling rate of the temperature, and the maximum number of steps (the number of steps is good to be set because it might happen that the cooling process gets stuck trying to ever-more refine the final solution). The function then tries to find the most suitable move, given the cube state after the previous move, and the new temperature after the cooling. This continues until the max number of moves is reached, or if a solution is found. The function outputs a history of the moves taken by the algorithm in an array form, where each row contains information about that move as follows:\n",
        "```\n",
        "[<rotated face>, <rotation direction>, <move Δ>, <new cube fitness>, <T for move>]\n",
        "```\n",
        "\n"
      ],
      "metadata": {
        "id": "fnD0ISoLZd7P"
      }
    },
    {
      "cell_type": "code",
      "source": [
        "def cooling_process(current_cube_state, T, temp_decrease_factor, max_iterations):\n",
        "    # initiate with random nums so choose_move function works\n",
        "    moves_history = [[0, 1, 0, 0, 0]] \n",
        "    \n",
        "    cube_developemnt = list()\n",
        "    cube_developemnt.append(current_cube_state)\n",
        "    for iterate in range(max_iterations):\n",
        "        \n",
        "        current_cube_fitness = calculate_fitness(current_cube_state)\n",
        "        if current_cube_fitness == 0:\n",
        "            solved_cube = current_cube_state.copy()\n",
        "            print(\"Solved!\")\n",
        "            return moves_history, solved_cube\n",
        "        chosen_move, delta, current_cube_state = choose_move(current_cube_state, \n",
        "                                                             current_cube_fitness, \n",
        "                                                             T,\n",
        "                                                             moves_history[-1][:2])\n",
        "        cube_developemnt.append(current_cube_state)\n",
        "        new_cube_fitness = calculate_fitness(current_cube_state)\n",
        "\n",
        "        moves_history.append([chosen_move[0], chosen_move[1], delta, new_cube_fitness, T])\n",
        "        T = T*temp_decrease_factor\n",
        "    \n",
        "    partially_solved_cube = current_cube_state.copy()\n",
        "    print(\"Partially solved!\")\n",
        "    return moves_history, partially_solved_cube"
      ],
      "metadata": {
        "id": "DNvXhWxdZeKZ"
      },
      "execution_count": null,
      "outputs": []
    },
    {
      "cell_type": "markdown",
      "source": [
        "A final function, which randomly mixes up a cube, is necessary. It taken in a parameter, specifying the number of mixing moves to be performed. The output is the mixed cube, but also a history of the mixing moves, so they can be traced back, for reference and back-tracing. "
      ],
      "metadata": {
        "id": "KDv110hDRrFg"
      }
    },
    {
      "cell_type": "code",
      "source": [
        "def mix_cube(num_mixing_moves):\n",
        "    mix_history = []\n",
        "    current_cube_state = GROUND_TRUTH.copy()\n",
        "    for move_idx in range(num_mixing_moves):\n",
        "        rand_move = random.randint(0,5)\n",
        "        rand_dir = random.choice([-1, 1])\n",
        "        current_cube_state = move(rand_move, rand_dir, current_cube_state)\n",
        "        mix_history.append((rand_move,rand_dir))\n",
        "        \n",
        "    return mix_history, current_cube_state   "
      ],
      "metadata": {
        "id": "AwCfi7JARusp"
      },
      "execution_count": null,
      "outputs": []
    },
    {
      "cell_type": "markdown",
      "source": [
        "These are all the functions that are needed for the Rubik's cube solver to work. The `cooling_process` function really is the one that combines all previous functions into one, so it's simple to write and run a script that actually mixes up randomly a cube and then solves it, where the output `moves_history` of the cooling process will give the ordered moves that need to be performed to reach the solved cube state. "
      ],
      "metadata": {
        "id": "EgpCtOpnWPy_"
      }
    },
    {
      "cell_type": "code",
      "source": [
        "mix_history, mixed_cube = mix_cube(num_mixing_moves=1)\n",
        "T = 1\n",
        "temp_decrease_factor = 0.99\n",
        "max_iterations = 1000\n",
        "\n",
        "moves_history1, cube1 = cooling_process(mixed_cube, T, temp_decrease_factor, max_iterations)\n",
        "\n",
        "print(calculate_fitness(mixed_cube))\n",
        "print(calculate_fitness(cube1))\n",
        "moves_history_array = np.array(moves_history1)[1:]\n",
        "plt.plot(np.insert(moves_history_array[:,3],0,calculate_fitness(mixed_cube)))"
      ],
      "metadata": {
        "id": "6Z11ftilW65t"
      },
      "execution_count": null,
      "outputs": []
    },
    {
      "cell_type": "markdown",
      "source": [
        "Or one can write a simple script to run the algorithm on 100 different cubes, mixed up with the same number of cubes, and find how many times the algorithm found a solution"
      ],
      "metadata": {
        "id": "aCzoUZ-_aMCp"
      }
    },
    {
      "cell_type": "code",
      "source": [
        "T = 0.2\n",
        "temp_decrease_factor = 0.99\n",
        "max_iterations = 500\n",
        "num_mixing_moves = 2\n",
        "\n",
        "results = list()\n",
        "for ii in range(100): \n",
        "    mix_history, mixed_cube = mix_cube(num_mixing_moves)\n",
        "    moves_history1, cube1 = cooling_process(mixed_cube, T, temp_decrease_factor, max_iterations)\n",
        "\n",
        "    results.append([calculate_fitness(mixed_cube), calculate_fitness(cube1)])\n",
        "\n",
        "results = np.array(results)\n",
        "len(results[results==0])"
      ],
      "metadata": {
        "id": "FyDFPtV1aaUk"
      },
      "execution_count": null,
      "outputs": []
    },
    {
      "cell_type": "markdown",
      "source": [
        "But testing this with large number of mixing moves shows a problem, as the algorithm is not able to achieve a full solution. It solves a few moves and many times increases the orderness of the cube, but gets stuck and cannot continue, as the temperature gets too low and the algorithm is not able to really take \"wrong\" moves, so it cannot escape its local minima. Giving it a boost by increasing the temperature, or rewinding a few moves doesn't seem to fix the problem, it still gets stuck on the same move, or maybe 1-2 moves further. For smaller number of mixing moves it seems to still find solutions, yet not always. For 1 mixing move it always finds the solution, for 2 moves - around 60-70% of the time, and it decreases down as we increase the moves. The largest number of moves observed that it is able to find a solution after 100 runs is 8, which is not little, but it still is not perfect. And this is usually because the mixing just turns out to be simpler, resembling more a 5 or 6 moves mixed cube. The number of moves that the algorithm takes in order to find the solution varies a lot, from 1 to more than 200, depending on the number of mixing moves.  \n",
        "\n",
        "\n",
        "--------\n",
        "\n",
        "My conclusion for this project is that Simulated Annealing is able to solve some Rubik's cubes, if they are a bit simpler, but is not a reliable way of finding the solution to the problem. It also takes a very large number of moves to reach a solution, more than if more conventional algorithms are used. So overall it's a fun way of approaching the problem, but better and faster methods exist, and it doesn't seem to improve on any aspect, other than maybe the complexity of coding the solution. "
      ],
      "metadata": {
        "id": "AONQ3aPZXnNS"
      }
    }
  ]
}
